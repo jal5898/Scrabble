{
 "cells": [
  {
   "cell_type": "code",
   "execution_count": 14,
   "metadata": {},
   "outputs": [],
   "source": [
    "import numpy as np\n",
    "import random\n",
    "import datetime\n",
    "import matplotlib.pyplot as plt\n",
    "import time\n",
    "try:\n",
    "     import cPickle as pickle\n",
    "except:\n",
    "    import pickle"
   ]
  },
  {
   "cell_type": "markdown",
   "metadata": {},
   "source": [
    "Get the values of all the tiles. Blanks treated separately as '1' and '2'"
   ]
  },
  {
   "cell_type": "code",
   "execution_count": 15,
   "metadata": {},
   "outputs": [],
   "source": [
    "tiles = {}\n",
    "tiles['A'] = {'count':9,'points':1}\n",
    "tiles['B'] = {'count':2,'points':3}\n",
    "tiles['C'] = {'count':2,'points':3}\n",
    "tiles['D'] = {'count':4,'points':2}\n",
    "tiles['E'] = {'count':12,'points':1}\n",
    "tiles['F'] = {'count':2,'points':4}\n",
    "tiles['G'] = {'count':3,'points':2}\n",
    "tiles['H'] = {'count':2,'points':4}\n",
    "tiles['I'] = {'count':9,'points':1}\n",
    "tiles['J'] = {'count':1,'points':8}\n",
    "tiles['K'] = {'count':1,'points':5}\n",
    "tiles['L'] = {'count':4,'points':1}\n",
    "tiles['M'] = {'count':2,'points':3}\n",
    "tiles['N'] = {'count':6,'points':1}\n",
    "tiles['O'] = {'count':8,'points':1}\n",
    "tiles['P'] = {'count':2,'points':3}\n",
    "tiles['Q'] = {'count':1,'points':10}\n",
    "tiles['R'] = {'count':6,'points':1}\n",
    "tiles['S'] = {'count':4,'points':1}\n",
    "tiles['T'] = {'count':6,'points':1}\n",
    "tiles['U'] = {'count':4,'points':1}\n",
    "tiles['V'] = {'count':2,'points':4}\n",
    "tiles['W'] = {'count':2,'points':4}\n",
    "tiles['X'] = {'count':1,'points':8}\n",
    "tiles['Y'] = {'count':2,'points':4}\n",
    "tiles['Z'] = {'count':1,'points':10}\n",
    "tiles['1'] = {'count':1,'points':0}\n",
    "tiles['2'] = {'count':1,'points':0}"
   ]
  },
  {
   "cell_type": "markdown",
   "metadata": {},
   "source": [
    "load dictionary from enable1.txt and get values of each word in tiles"
   ]
  },
  {
   "cell_type": "code",
   "execution_count": 16,
   "metadata": {},
   "outputs": [],
   "source": [
    "maxLen = 0\n",
    "dictionary = {}\n",
    "with open('/Users/Joseph/Documents/Puzzles/FiveThirtyEight/Scrabble/enable1.txt','r') as dictFile:\n",
    "    dictLine = dictFile.readline().strip('\\n')\n",
    "    while dictLine:\n",
    "        if len(dictLine)>maxLen:\n",
    "            maxLen = len(dictLine)\n",
    "        dictionary[dictLine.upper()] = sum(tiles[c]['points'] for c in dictLine.upper())\n",
    "        dictLine = dictFile.readline().strip('\\n')"
   ]
  },
  {
   "cell_type": "markdown",
   "metadata": {},
   "source": [
    "set params"
   ]
  },
  {
   "cell_type": "code",
   "execution_count": 17,
   "metadata": {},
   "outputs": [],
   "source": [
    "maxLen = 15 # max word len to check - override longest in dict - possibly still too long\n",
    "pop_size = 150\n",
    "n_steps = 10000\n",
    "pnt_mut_rate = 4 # expected number of direct character swaps\n",
    "ins_mut_rate = 1 # expected number of substring relocations\n",
    "blnk_mut_rate = .2 # probability of blank randomly changing to any other value\n",
    "swp_blank_rate = .2 # probability of blank swapping with matching character\n",
    "n_keep = 5 # number from top of list surviving to next generation"
   ]
  },
  {
   "cell_type": "markdown",
   "metadata": {},
   "source": [
    "generate 'pop_size' random starting strings from the tiles, assign random values to blanks."
   ]
  },
  {
   "cell_type": "code",
   "execution_count": 18,
   "metadata": {},
   "outputs": [],
   "source": [
    "def gen_rand_string(n):\n",
    "    strings = []\n",
    "    base_string = ''.join(k*tiles[k]['count'] for k in tiles.keys())\n",
    "    base_list = list(base_string)\n",
    "    for i in range(n):\n",
    "        x = random.sample(base_list,len(base_list))\n",
    "        strings.append(x)\n",
    "    return strings\n",
    "\n",
    "strs = gen_rand_string(pop_size)\n",
    "init_pop = []\n",
    "for s in strs:\n",
    "    blanks = [chr(c) for c in np.random.randint(65,91,2)]\n",
    "    init_pop.append((s,blanks))"
   ]
  },
  {
   "cell_type": "markdown",
   "metadata": {},
   "source": [
    "define evaluation function. substrings without blanks are easy to check against dictionary. with blanks, sub in blank value, check against existing word lists and dictionary, get value, and subtract value of tile replaced by blank."
   ]
  },
  {
   "cell_type": "code",
   "execution_count": 19,
   "metadata": {},
   "outputs": [],
   "source": [
    "def eval_string(string,b1,b2,maxLen):\n",
    "    words = set()\n",
    "    blank1 = set()\n",
    "    blank2 = set()\n",
    "    blank12 = set()\n",
    "    for i in range(len(string)):\n",
    "        for j in range(min(maxLen,len(string)-i)):\n",
    "            word = ''.join(string[i:i+j])\n",
    "            if '1' in word:\n",
    "                if '2' in word:\n",
    "                    word.replace('1',b1)\n",
    "                    word.replace('2',b2)\n",
    "                    if word in dictionary:\n",
    "                        blank12.add(word)\n",
    "                else:\n",
    "                    word.replace('1',b1)\n",
    "                    if word in dictionary:\n",
    "                        blank1.add(word)\n",
    "            elif '2' in word:\n",
    "                word.replace('2',b2)\n",
    "                if word in dictionary:\n",
    "                    blank2.add(word)\n",
    "            elif word in dictionary:\n",
    "                words.add(word)\n",
    "    blank_dict = {w:dictionary[w]-tiles[b1]['points'] for w in blank1 if w not in words}\n",
    "    for w in blank2:\n",
    "        if w not in words:\n",
    "            val = dictionary[w]-tiles[b2]['points']\n",
    "            if w not in blank_dict:\n",
    "                blank_dict[w] = val\n",
    "            elif blank_dict[w]<val:\n",
    "                blank_dict[w] = val\n",
    "    for w in blank12:\n",
    "        if (w not in words):\n",
    "            val = dictionary[w]-tiles[b1]['points']-tiles[b2]['points']\n",
    "            if w not in blank_dict:\n",
    "                blank_dict[w] = val\n",
    "            elif blank_dict[w]<val:\n",
    "                blank_dict[w] = val\n",
    "\n",
    "    blank_val = sum(blank_dict.values())\n",
    "\n",
    "    val = sum(dictionary[w] for w in words)+blank_val\n",
    "    return val,words"
   ]
  },
  {
   "cell_type": "markdown",
   "metadata": {},
   "source": [
    "define the genetic algorithm. use the evaluation function to weight strings in population, then use series of mutations to evolve population over iterations."
   ]
  },
  {
   "cell_type": "code",
   "execution_count": 20,
   "metadata": {},
   "outputs": [],
   "source": [
    "def genetic_algorithm(init_pop,pop_size,n_steps,pnt_mut_rate,blnk_mut_rate,swp_blank_rate,ins_mut_rate,n_keep):\n",
    "    def reproduce(scores,k):\n",
    "        scores = np.array(scores,dtype='float')\n",
    "        scores -= min(scores)\n",
    "        scores /= sum(scores)\n",
    "        bins = np.append(0,np.cumsum(scores))\n",
    "        r = np.random.rand(k)\n",
    "        idx = np.digitize(r,bins)-1\n",
    "        return idx\n",
    "    def pnt_mutate(string,pnt_mut_rate):\n",
    "        n = len(string)\n",
    "        p = pnt_mut_rate/float(n)\n",
    "        r = np.random.rand(n)\n",
    "        for i in range(n):\n",
    "            if r[i] < p:\n",
    "                swp_idx = np.random.randint(n)\n",
    "                swp = string[i]\n",
    "                string[i] = string[swp_idx]\n",
    "                string[swp_idx] = swp\n",
    "        return string\n",
    "    def blnk_mutate(blanks,blnk_mutate_rate):\n",
    "        for i in range(len(blanks)):\n",
    "            if np.random.rand()<blnk_mutate_rate:\n",
    "                blanks[i] = chr(np.random.randint(65,91))\n",
    "        return blanks\n",
    "    def swp_blank(string,blanks,swp_blank_rate):\n",
    "        for i in ['1','2']:\n",
    "            if np.random.rand()<swp_blank_rate:\n",
    "                b = blanks[int(i)-1]\n",
    "                idx = [x for x in range(len(string)) if string[x]==b]\n",
    "                idx = np.random.choice(idx)\n",
    "                blank_idx = string.index(i)\n",
    "                string[blank_idx] = b\n",
    "                string[idx] = i\n",
    "        return string,blanks\n",
    "    def ins_mutate(string,ins_mut_rate):\n",
    "        n_swps = np.random.poisson(ins_mut_rate)\n",
    "        for i in range(n_swps):\n",
    "            n = len(string)\n",
    "            idx = np.random.randint(0,len(string),2)\n",
    "            l = np.random.randint(0,min(12,1+(idx[1]-idx[0])%n,1+(n-idx[0])))\n",
    "            tmp = string[idx[0]:idx[0]+l]\n",
    "            if idx[1]>idx[0]:\n",
    "                string[idx[0]:idx[1]-l] = string[idx[0]+l:idx[1]]\n",
    "                string[idx[1]-l:idx[1]] = tmp\n",
    "            else:\n",
    "                string[idx[1]+l:idx[0]+l] = string[idx[1]:idx[0]]\n",
    "                string[idx[1]:idx[1]+l] = tmp\n",
    "        return string\n",
    "    def score_pop(population):\n",
    "        score = []\n",
    "        for indiv in population:\n",
    "            string = indiv[0]\n",
    "            b1 = indiv[1][0]\n",
    "            b2 = indiv[1][1]\n",
    "            score.append(eval_string(string,b1,b2,maxLen)[0])\n",
    "        return score\n",
    "    def top_idx(scores):\n",
    "        idx = sorted(range(len(scores)),key=lambda i: scores[i])[-n_keep:]\n",
    "        return idx\n",
    "\n",
    "    population = init_pop\n",
    "    max_score = []\n",
    "    start = time.time()\n",
    "    for step in range(n_steps):\n",
    "        new_pop = []\n",
    "        score = score_pop(population)\n",
    "        max_val = max(score)\n",
    "        max_idx = top_idx(score)\n",
    "        max_score.append(max_val)\n",
    "        best_pop = [population[i] for i in max_idx]\n",
    "        n_offspring = pop_size\n",
    "        if n_keep>0:\n",
    "            n_offspring -= len(best_pop)\n",
    "        idx = reproduce(score,n_offspring)\n",
    "        if step%1000==0:\n",
    "            t = time.time()\n",
    "            print 'step: ' + str(step)\n",
    "            print 'max score: '+ str(max_val)\n",
    "            print 'string: ' + ''.join(best_pop[-1][0])\n",
    "            print 'blanks: [\"'+best_pop[-1][1][0]+'\",\"'+best_pop[-1][1][1]+'\"]' \n",
    "            print 'time: '+str(t-start)\n",
    "            print ''\n",
    "        for i in idx:\n",
    "            string = population[i][0][:]\n",
    "            blanks = population[i][1][:]\n",
    "            string = pnt_mutate(string,pnt_mut_rate)\n",
    "            blanks = blnk_mutate(blanks,blnk_mut_rate)\n",
    "            string,blanks = swp_blank(string,blanks,swp_blank_rate)\n",
    "            string = ins_mutate(string,ins_mut_rate)\n",
    "            new_pop.append((string,blanks))\n",
    "        if n_keep>0:\n",
    "            population = best_pop + new_pop\n",
    "    score = score_pop(population)\n",
    "    return best_pop,score,population,max_score"
   ]
  },
  {
   "cell_type": "markdown",
   "metadata": {},
   "source": [
    "run this thing and pickle it"
   ]
  },
  {
   "cell_type": "code",
   "execution_count": 21,
   "metadata": {
    "scrolled": true
   },
   "outputs": [
    {
     "name": "stdout",
     "output_type": "stream",
     "text": [
      "step: 0\n",
      "max score: 228\n",
      "string: TTWCOFEEMEIRISANWUYINEBCITNESOAETRZITODEXV2ESUEFKIDADLROOYOSGAEMU1JAGAEGNTPANIBNAHRDUIRILARPQEHOLOLV\n",
      "blanks: [\"Y\",\"C\"]\n",
      "time: 0.210800886154\n",
      "\n",
      "step: 1000\n",
      "max score: 620\n",
      "string: BEERGODVNETSQ2JABASINGIFAYUKNURAGELOPEDITTOUTCURNOVANAWEMENDT1PICOXESHOERETHIRAMIESLFLIZYEADOWLIRAOI\n",
      "blanks: [\"V\",\"E\"]\n",
      "time: 176.043444872\n",
      "\n",
      "step: 2000\n",
      "max score: 661\n",
      "string: BEERGODETSYNQDOWLJABASINGIFAYUKNURAGELOPEDITTOUTCURNOVANAWELFRIZV1AAMENDTIPICOXESHOERETHIRAMIESOLE2I\n",
      "blanks: [\"I\",\"X\"]\n",
      "time: 348.503970861\n",
      "\n",
      "step: 3000\n",
      "max score: 677\n",
      "string: BEERGODETSYNQDOWLJABASINGIFAYUKAURAGELOPEDITTOUTCURNOVANAWELFRIZVINAMENDTIPICOXESHOERETHIRAMIESOLE21\n",
      "blanks: [\"W\",\"T\"]\n",
      "time: 520.042562008\n",
      "\n",
      "step: 4000\n",
      "max score: 679\n",
      "string: UEERGODETSYNQDOWLJABASINGIFAYUKABRAGELOPEDITTOUTCURNOVANAWELFRIZVINAMENDTIPICOXESHOERETHIRAMIESOLE21\n",
      "blanks: [\"K\",\"Q\"]\n",
      "time: 695.427553892\n",
      "\n",
      "step: 5000\n",
      "max score: 689\n",
      "string: 1REEGODETS2YUVOWLJABASINGIFAYUKABRAGELOPEDITTOUTCURNOVANAWELFRIZNITIPICOXESHOERETHIRAMIENAMENDSOLEDQ\n",
      "blanks: [\"U\",\"N\"]\n",
      "time: 2645.29312587\n",
      "\n",
      "step: 6000\n",
      "max score: 694\n",
      "string: 1RUEGODETS2YEVOWLJABASINGIFAYUKABRAGELOPEDITTOUTCURNOVANAWELFRIZNITIPICOXESHOERETHIRAMIENAMENDSOLEDQ\n",
      "blanks: [\"X\",\"I\"]\n",
      "time: 2808.83822894\n",
      "\n",
      "step: 7000\n",
      "max score: 697\n",
      "string: 1RUEGODETSJAWYEVOWL2ABASINGLFAYUKABRAGELOPEDITTOUTCURNOVANEIFRIZNITIPICOXESHOERETHIRAMIENAMENDSOLEDQ\n",
      "blanks: [\"P\",\"B\"]\n",
      "time: 2971.94241691\n",
      "\n",
      "step: 8000\n",
      "max score: 698\n",
      "string: 1RUEGODETSJAWYEVOWL2ABASINGLFAYUKABRAGELOPEDITTOUTCURNOVANEIFRIZXITIPICONESHOERETHIRAMIENAMENDSOLEDQ\n",
      "blanks: [\"W\",\"T\"]\n",
      "time: 3135.37558389\n",
      "\n",
      "step: 9000\n",
      "max score: 705\n",
      "string: 1RUEGODETXJAWYEVOWL2ABASINGABRAGELOPEDITTOUTCURNOVANELFAYSITIPICONESHOERETHIRAMIENAMENDSOLUKIFRIZEDQ\n",
      "blanks: [\"T\",\"C\"]\n",
      "time: 3299.24131298\n",
      "\n"
     ]
    }
   ],
   "source": [
    "best_pop,score,population,max_score = genetic_algorithm(init_pop,pop_size,n_steps,pnt_mut_rate,blnk_mut_rate,swp_blank_rate,ins_mut_rate,n_keep)\n",
    "\n",
    "output = {'best_pop':best_pop,'score':score,'population':population,'max_score':max_score}\n",
    "time = datetime.datetime.now().strftime('%Y_%m_%d_%H%M%S')\n",
    "file_name = 'scrabble_output_'+time+'.pickle'\n",
    "with open(file_name,'wb') as f:\n",
    "    pickle.dump(output,f)"
   ]
  },
  {
   "cell_type": "markdown",
   "metadata": {},
   "source": [
    "get pickled output and see."
   ]
  },
  {
   "cell_type": "code",
   "execution_count": 22,
   "metadata": {
    "scrolled": true
   },
   "outputs": [
    {
     "name": "stdout",
     "output_type": "stream",
     "text": [
      "score: 713\n",
      "n_words: 134\n",
      "string: QRUEGODETXJAWYEVOWL2ABASINGIBRAGELOPEDITTOUTCURNOVANELFAYSITIPICONESHOERATHIRAMIENAMENDSOLUKEFRIZED1\n",
      "blank_1: Q\n",
      "blank_2: T\n",
      "score: 713\n",
      "n_words: 134\n",
      "string: QRUEGODETXJAWYEVOWL2ABASINGIBRAGELOPEDITTOUTCURNOVANELFAYSITIPICONESHOERATHIRAMIENAMENDSOLUKEFRIZED1\n",
      "blank_1: Q\n",
      "blank_2: T\n",
      "score: 713\n",
      "n_words: 134\n",
      "string: 2RUEGODETXJAWYEVOWLQABASINGIBRAGELOPEDITTOUTCURNOVANELFAYSITIPICONESHOERATHIRAMIENAMENDSOLUKEFRIZED1\n",
      "blank_1: U\n",
      "blank_2: Q\n",
      "score: 714\n",
      "n_words: 128\n",
      "string: 1RUEGODENLJAWYEGOWL2ABASINGIBRAVELOPEDITTOUTCURNOVANELFAYSITIPICOTESHOERATHIRAMIENAMENDSOXUKEFRIZEDQ\n",
      "blank_1: Q\n",
      "blank_2: F\n",
      "score: 714\n",
      "n_words: 128\n",
      "string: 1RUEGODENLJAWYEGOWL2ABASINGIBRAVELOPEDITTOUTCURNOVANELFAYSITIPICOTESHOERATHIRAMIENAMENDSOXUKEFRIZEDQ\n",
      "blank_1: Q\n",
      "blank_2: J\n"
     ]
    }
   ],
   "source": [
    "with open(file_name,'rb') as f:\n",
    "    output = pickle.load(f)\n",
    "for b in output['best_pop']:\n",
    "    val,words = eval_string(b[0],b[1][0],b[1][1],maxLen)\n",
    "    print 'score: ' + str(val)\n",
    "    print 'n_words: ' + str(len(words))\n",
    "    print 'string: ' + ''.join(b[0])\n",
    "    print 'blank_1: ' + b[1][0]\n",
    "    print 'blank_2: ' + b[1][1]"
   ]
  },
  {
   "cell_type": "code",
   "execution_count": 23,
   "metadata": {
    "scrolled": true
   },
   "outputs": [
    {
     "data": {
      "text/plain": [
       "Text(0,0.5,'best score')"
      ]
     },
     "execution_count": 23,
     "metadata": {},
     "output_type": "execute_result"
    },
    {
     "data": {
      "image/png": "[encoded data removed]",
      "text/plain": [
       "<Figure size 432x288 with 1 Axes>"
      ]
     },
     "metadata": {
      "needs_background": "light"
     },
     "output_type": "display_data"
    }
   ],
   "source": [
    "plt.figure()\n",
    "plt.plot(range(n_steps),output['max_score'])\n",
    "plt.xlabel('generation')\n",
    "plt.ylabel('best score')"
   ]
  }
 ],
 "metadata": {
  "kernelspec": {
   "display_name": "Python 2",
   "language": "python",
   "name": "python2"
  },
  "language_info": {
   "codemirror_mode": {
    "name": "ipython",
    "version": 2
   },
   "file_extension": ".py",
   "mimetype": "text/x-python",
   "name": "python",
   "nbconvert_exporter": "python",
   "pygments_lexer": "ipython2",
   "version": "2.7.15"
  }
 },
 "nbformat": 4,
 "nbformat_minor": 2
}
