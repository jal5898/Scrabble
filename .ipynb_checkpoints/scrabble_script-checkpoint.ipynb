{
 "cells": [
  {
   "cell_type": "code",
   "execution_count": 1,
   "metadata": {},
   "outputs": [],
   "source": [
    "import numpy as np\n",
    "import random\n",
    "import datetime\n",
    "import matplotlib.pyplot as plt\n",
    "import time\n",
    "try:\n",
    "     import cPickle as pickle\n",
    "except:\n",
    "    import pickle"
   ]
  },
  {
   "cell_type": "markdown",
   "metadata": {},
   "source": [
    "Get the values of all the tiles. Blanks treated separately as '1' and '2'"
   ]
  },
  {
   "cell_type": "code",
   "execution_count": 2,
   "metadata": {},
   "outputs": [],
   "source": [
    "tiles = {}\n",
    "tiles['A'] = {'count':9,'points':1}\n",
    "tiles['B'] = {'count':2,'points':3}\n",
    "tiles['C'] = {'count':2,'points':3}\n",
    "tiles['D'] = {'count':4,'points':2}\n",
    "tiles['E'] = {'count':12,'points':1}\n",
    "tiles['F'] = {'count':2,'points':4}\n",
    "tiles['G'] = {'count':3,'points':2}\n",
    "tiles['H'] = {'count':2,'points':4}\n",
    "tiles['I'] = {'count':9,'points':1}\n",
    "tiles['J'] = {'count':1,'points':8}\n",
    "tiles['K'] = {'count':1,'points':5}\n",
    "tiles['L'] = {'count':4,'points':1}\n",
    "tiles['M'] = {'count':2,'points':3}\n",
    "tiles['N'] = {'count':6,'points':1}\n",
    "tiles['O'] = {'count':8,'points':1}\n",
    "tiles['P'] = {'count':2,'points':3}\n",
    "tiles['Q'] = {'count':1,'points':10}\n",
    "tiles['R'] = {'count':6,'points':1}\n",
    "tiles['S'] = {'count':4,'points':1}\n",
    "tiles['T'] = {'count':6,'points':1}\n",
    "tiles['U'] = {'count':4,'points':1}\n",
    "tiles['V'] = {'count':2,'points':4}\n",
    "tiles['W'] = {'count':2,'points':4}\n",
    "tiles['X'] = {'count':1,'points':8}\n",
    "tiles['Y'] = {'count':2,'points':4}\n",
    "tiles['Z'] = {'count':1,'points':10}\n",
    "tiles['1'] = {'count':1,'points':0}\n",
    "tiles['2'] = {'count':1,'points':0}"
   ]
  },
  {
   "cell_type": "markdown",
   "metadata": {},
   "source": [
    "load dictionary from enable1.txt and get values of each word in tiles"
   ]
  },
  {
   "cell_type": "code",
   "execution_count": 3,
   "metadata": {},
   "outputs": [],
   "source": [
    "maxLen = 0\n",
    "dictionary = {}\n",
    "with open('/Users/Joseph/Documents/Puzzles/FiveThirtyEight/Scrabble/enable1.txt','r') as dictFile:\n",
    "    dictLine = dictFile.readline().strip('\\n')\n",
    "    while dictLine:\n",
    "        if len(dictLine)>maxLen:\n",
    "            maxLen = len(dictLine)\n",
    "        dictionary[dictLine.upper()] = sum(tiles[c]['points'] for c in dictLine.upper())\n",
    "        dictLine = dictFile.readline().strip('\\n')"
   ]
  },
  {
   "cell_type": "markdown",
   "metadata": {},
   "source": [
    "set params"
   ]
  },
  {
   "cell_type": "code",
   "execution_count": 4,
   "metadata": {},
   "outputs": [],
   "source": [
    "maxLen = 15 # max word len to check - override longest in dict - possibly still too long\n",
    "pop_size = 100\n",
    "n_steps = 10000\n",
    "pnt_mut_rate = 4 # expected number of direct character swaps\n",
    "ins_mut_rate = 2 # expected number of \n",
    "blnk_mut_rate = .2 # probability of blank randomly changing to any other value\n",
    "swp_blank_rate = .2 # probability of blank swapping with matching character\n",
    "n_keep = 5 # number from top of list surviving to next generation"
   ]
  },
  {
   "cell_type": "markdown",
   "metadata": {},
   "source": [
    "generate 'pop_size' random starting strings from the tiles, assign random values to blanks."
   ]
  },
  {
   "cell_type": "code",
   "execution_count": 5,
   "metadata": {},
   "outputs": [],
   "source": [
    "def gen_rand_string(n):\n",
    "    strings = []\n",
    "    base_string = ''.join(k*tiles[k]['count'] for k in tiles.keys())\n",
    "    base_list = list(base_string)\n",
    "    for i in range(n):\n",
    "        x = random.sample(base_list,len(base_list))\n",
    "        strings.append(x)\n",
    "    return strings\n",
    "\n",
    "strs = gen_rand_string(pop_size)\n",
    "init_pop = []\n",
    "for s in strs:\n",
    "    blanks = [chr(c) for c in np.random.randint(65,91,2)]\n",
    "    init_pop.append((s,blanks))"
   ]
  },
  {
   "cell_type": "markdown",
   "metadata": {},
   "source": [
    "define evaluation function. substrings without blanks are easy to check against dictionary. with blanks, sub in blank value, check against existing word lists and dictionary, get value, and subtract value of tile replaced by blank."
   ]
  },
  {
   "cell_type": "code",
   "execution_count": 6,
   "metadata": {},
   "outputs": [],
   "source": [
    "def eval_string(string,b1,b2,maxLen):\n",
    "    words = set()\n",
    "    blank1 = set()\n",
    "    blank2 = set()\n",
    "    blank12 = set()\n",
    "    for i in range(len(string)):\n",
    "        for j in range(min(maxLen,len(string)-i)):\n",
    "            word = ''.join(string[i:i+j])\n",
    "            if '1' in word:\n",
    "                if '2' in word:\n",
    "                    word.replace('1',b1)\n",
    "                    word.replace('2',b2)\n",
    "                    if word in dictionary:\n",
    "                        blank12.add(word)\n",
    "                else:\n",
    "                    word.replace('1',b1)\n",
    "                    if word in dictionary:\n",
    "                        blank1.add(word)\n",
    "            elif '2' in word:\n",
    "                word.replace('2',b2)\n",
    "                if word in dictionary:\n",
    "                    blank2.add(word)\n",
    "            elif word in dictionary:\n",
    "                words.add(word)\n",
    "    blank_dict = {w:dictionary[w]-tiles[b1]['points'] for w in blank1 if w not in words}\n",
    "    for w in blank2:\n",
    "        if w not in words:\n",
    "            val = dictionary[w]-tiles[b2]['points']\n",
    "            if w not in blank_dict:\n",
    "                blank_dict[w] = val\n",
    "            elif blank_dict[w]<val:\n",
    "                blank_dict[w] = val\n",
    "    for w in blank12:\n",
    "        if (w not in words):\n",
    "            val = dictionary[w]-tiles[b1]['points']-tiles[b2]['points']\n",
    "            if w not in blank_dict:\n",
    "                blank_dict[w] = val\n",
    "            elif blank_dict[w]<val:\n",
    "                blank_dict[w] = val\n",
    "\n",
    "    blank_val = sum(blank_dict.values())\n",
    "\n",
    "    val = sum(dictionary[w] for w in words)+blank_val\n",
    "    return val,words"
   ]
  },
  {
   "cell_type": "markdown",
   "metadata": {},
   "source": [
    "define the genetic algorithm. use the evaluation function to weight strings in population, then use series of mutations to evolve population over iterations."
   ]
  },
  {
   "cell_type": "code",
   "execution_count": 7,
   "metadata": {},
   "outputs": [],
   "source": [
    "def genetic_algorithm(init_pop,pop_size,n_steps,pnt_mut_rate,blnk_mut_rate,swp_blank_rate,ins_mut_rate,n_keep):\n",
    "    def reproduce(scores,k):\n",
    "        scores = np.array(scores,dtype='float')\n",
    "        scores -= min(scores)\n",
    "        scores /= sum(scores)\n",
    "        bins = np.append(0,np.cumsum(scores))\n",
    "        r = np.random.rand(k)\n",
    "        idx = np.digitize(r,bins)-1\n",
    "        return idx\n",
    "    def pnt_mutate(string,pnt_mut_rate):\n",
    "        n = len(string)\n",
    "        p = pnt_mut_rate/float(n)\n",
    "        r = np.random.rand(n)\n",
    "        for i in range(n):\n",
    "            if r[i] < p:\n",
    "                swp_idx = np.random.randint(n)\n",
    "                swp = string[i]\n",
    "                string[i] = string[swp_idx]\n",
    "                string[swp_idx] = swp\n",
    "        return string\n",
    "    def blnk_mutate(blanks,blnk_mutate_rate):\n",
    "        for i in range(len(blanks)):\n",
    "            if np.random.rand()<blnk_mutate_rate:\n",
    "                blanks[i] = chr(np.random.randint(65,91))\n",
    "        return blanks\n",
    "    def swp_blank(string,blanks,swp_blank_rate):\n",
    "        for i in ['1','2']:\n",
    "            if np.random.rand()<swp_blank_rate:\n",
    "                b = blanks[int(i)-1]\n",
    "                idx = [x for x in range(len(string)) if string[x]==b]\n",
    "                idx = np.random.choice(idx)\n",
    "                blank_idx = string.index(i)\n",
    "                string[blank_idx] = b\n",
    "                string[idx] = i\n",
    "        return string,blanks\n",
    "    def ins_mutate(string,ins_mut_rate):\n",
    "        n_swps = np.random.poisson(ins_mut_rate)\n",
    "        for i in range(n_swps):\n",
    "            n = len(string)\n",
    "            idx = np.random.randint(0,len(string),2)\n",
    "            l = np.random.randint(0,min(12,1+(idx[1]-idx[0])%n,1+(n-idx[0])))\n",
    "            tmp = string[idx[0]:idx[0]+l]\n",
    "            if idx[1]>idx[0]:\n",
    "                string[idx[0]:idx[1]-l] = string[idx[0]+l:idx[1]]\n",
    "                string[idx[1]-l:idx[1]] = tmp\n",
    "            else:\n",
    "                string[idx[1]+l:idx[0]+l] = string[idx[1]:idx[0]]\n",
    "                string[idx[1]:idx[1]+l] = tmp\n",
    "        return string\n",
    "    def score_pop(population):\n",
    "        score = []\n",
    "        for indiv in population:\n",
    "            string = indiv[0]\n",
    "            b1 = indiv[1][0]\n",
    "            b2 = indiv[1][1]\n",
    "            score.append(eval_string(string,b1,b2,maxLen)[0])\n",
    "        return score\n",
    "    def top_idx(scores):\n",
    "        idx = sorted(range(len(scores)),key=lambda i: scores[i])[-n_keep:]\n",
    "        return idx\n",
    "\n",
    "    population = init_pop\n",
    "    max_score = []\n",
    "    start = time.time()\n",
    "    for step in range(n_steps):\n",
    "        new_pop = []\n",
    "        score = score_pop(population)\n",
    "        max_val = max(score)\n",
    "        max_idx = top_idx(score)\n",
    "        max_score.append(max_val)\n",
    "        best_pop = [population[i] for i in max_idx]\n",
    "        n_offspring = pop_size\n",
    "        if n_keep>0:\n",
    "            n_offspring -= len(best_pop)\n",
    "        idx = reproduce(score,n_offspring)\n",
    "        if step%1000==0:\n",
    "            t = time.time()\n",
    "            print 'step: ' + str(step)\n",
    "            print 'max score: '+ str(max_val)\n",
    "            print 'string: ' + ''.join(best_pop[-1][0])\n",
    "            print 'blanks: [\"'+best_pop[-1][1][0]+'\",\"'+best_pop[-1][1][1]+'\"]' \n",
    "            print 'time: '+str(t-start)\n",
    "            print ''\n",
    "        for i in idx:\n",
    "            string = population[i][0][:]\n",
    "            blanks = population[i][1][:]\n",
    "            string = pnt_mutate(string,pnt_mut_rate)\n",
    "            blanks = blnk_mutate(blanks,blnk_mut_rate)\n",
    "            string,blanks = swp_blank(string,blanks,swp_blank_rate)\n",
    "            string = ins_mutate(string,ins_mut_rate)\n",
    "            new_pop.append((string,blanks))\n",
    "        if n_keep>0:\n",
    "            population = best_pop + new_pop\n",
    "    score = score_pop(population)\n",
    "    return best_pop,score,population,max_score"
   ]
  },
  {
   "cell_type": "markdown",
   "metadata": {},
   "source": [
    "run this thing and pickle it"
   ]
  },
  {
   "cell_type": "code",
   "execution_count": 8,
   "metadata": {
    "scrolled": true
   },
   "outputs": [
    {
     "name": "stdout",
     "output_type": "stream",
     "text": [
      "step: 0\n",
      "max score: 211\n",
      "string: ETCONIEMILXGALEYOTQDEAEPSDOGWAORURIBONGYWTALETOMENJNHVAPID1UE2FAUKTRRNICLIUEASARDEEVANSRTISIEOBFIZOH\n",
      "blanks: [\"O\",\"O\"]\n",
      "time: 0.180517911911\n",
      "\n",
      "step: 1000\n",
      "max score: 645\n",
      "string: ENOU1ZITSAOMILKARUIREVMIAIGEARCHIDESECUJOFTRADOBOTELFLAWNRAGPL2QOPHONEDITINUNARBYAWEDGEVESTYESEXTONI\n",
      "blanks: [\"I\",\"T\"]\n",
      "time: 169.37003994\n",
      "\n",
      "step: 2000\n",
      "max score: 707\n",
      "string: ENOO1ZITSAUMILKARUIREVMAINNARICHIDESECRULOBATEDFLOWERAGPLQ2IJOFTOPHONEDITABYAWEDGEVESTYENUGARSEXTONI\n",
      "blanks: [\"F\",\"T\"]\n",
      "time: 346.079998016\n",
      "\n",
      "step: 3000\n",
      "max score: 719\n",
      "string: AMILKERUAOEVMANOR1ZITSIUIENARICHIDESNCQGLOBATEDFLOWERAGULR2PJOFTOPHONEDITABYAWEDGEVESTYENUIARSEXTONI\n",
      "blanks: [\"F\",\"T\"]\n",
      "time: 515.118609905\n",
      "\n",
      "step: 4000\n",
      "max score: 742\n",
      "string: AMILKERSAOEVMANORECUTYENUI1ZITS2PIEANRICHIDESNQGLOBATEDFLOWERAGULRIUJOFTOPHONEDITABYAWEDGEVARSEXTONI\n",
      "blanks: [\"U\",\"T\"]\n",
      "time: 690.259088993\n",
      "\n"
     ]
    },
    {
     "ename": "KeyboardInterrupt",
     "evalue": "",
     "output_type": "error",
     "traceback": [
      "\u001b[0;31m---------------------------------------------------------------------------\u001b[0m",
      "\u001b[0;31mKeyboardInterrupt\u001b[0m                         Traceback (most recent call last)",
      "\u001b[0;32m<ipython-input-8-83aef509e310>\u001b[0m in \u001b[0;36m<module>\u001b[0;34m()\u001b[0m\n\u001b[0;32m----> 1\u001b[0;31m \u001b[0mbest_pop\u001b[0m\u001b[0;34m,\u001b[0m\u001b[0mscore\u001b[0m\u001b[0;34m,\u001b[0m\u001b[0mpopulation\u001b[0m\u001b[0;34m,\u001b[0m\u001b[0mmax_score\u001b[0m \u001b[0;34m=\u001b[0m \u001b[0mgenetic_algorithm\u001b[0m\u001b[0;34m(\u001b[0m\u001b[0minit_pop\u001b[0m\u001b[0;34m,\u001b[0m\u001b[0mpop_size\u001b[0m\u001b[0;34m,\u001b[0m\u001b[0mn_steps\u001b[0m\u001b[0;34m,\u001b[0m\u001b[0mpnt_mut_rate\u001b[0m\u001b[0;34m,\u001b[0m\u001b[0mswp_mut_rate\u001b[0m\u001b[0;34m,\u001b[0m\u001b[0mblnk_mut_rate\u001b[0m\u001b[0;34m,\u001b[0m\u001b[0mswp_blank_rate\u001b[0m\u001b[0;34m,\u001b[0m\u001b[0mins_mut_rate\u001b[0m\u001b[0;34m,\u001b[0m\u001b[0mn_keep\u001b[0m\u001b[0;34m)\u001b[0m\u001b[0;34m\u001b[0m\u001b[0m\n\u001b[0m\u001b[1;32m      2\u001b[0m \u001b[0;34m\u001b[0m\u001b[0m\n\u001b[1;32m      3\u001b[0m \u001b[0moutput\u001b[0m \u001b[0;34m=\u001b[0m \u001b[0;34m{\u001b[0m\u001b[0;34m'best_pop'\u001b[0m\u001b[0;34m:\u001b[0m\u001b[0mbest_pop\u001b[0m\u001b[0;34m,\u001b[0m\u001b[0;34m'score'\u001b[0m\u001b[0;34m:\u001b[0m\u001b[0mscore\u001b[0m\u001b[0;34m,\u001b[0m\u001b[0;34m'population'\u001b[0m\u001b[0;34m:\u001b[0m\u001b[0mpopulation\u001b[0m\u001b[0;34m,\u001b[0m\u001b[0;34m'max_score'\u001b[0m\u001b[0;34m:\u001b[0m\u001b[0mmax_score\u001b[0m\u001b[0;34m}\u001b[0m\u001b[0;34m\u001b[0m\u001b[0m\n\u001b[1;32m      4\u001b[0m \u001b[0mtime\u001b[0m \u001b[0;34m=\u001b[0m \u001b[0mdatetime\u001b[0m\u001b[0;34m.\u001b[0m\u001b[0mdatetime\u001b[0m\u001b[0;34m.\u001b[0m\u001b[0mnow\u001b[0m\u001b[0;34m(\u001b[0m\u001b[0;34m)\u001b[0m\u001b[0;34m.\u001b[0m\u001b[0mstrftime\u001b[0m\u001b[0;34m(\u001b[0m\u001b[0;34m'%Y_%m_%d_%H%M%S'\u001b[0m\u001b[0;34m)\u001b[0m\u001b[0;34m\u001b[0m\u001b[0m\n\u001b[1;32m      5\u001b[0m \u001b[0mfile_name\u001b[0m \u001b[0;34m=\u001b[0m \u001b[0;34m'scrabble_output_'\u001b[0m\u001b[0;34m+\u001b[0m\u001b[0mtime\u001b[0m\u001b[0;34m+\u001b[0m\u001b[0;34m'.pickle'\u001b[0m\u001b[0;34m\u001b[0m\u001b[0m\n",
      "\u001b[0;32m<ipython-input-7-a138c34a4a5f>\u001b[0m in \u001b[0;36mgenetic_algorithm\u001b[0;34m(init_pop, pop_size, n_steps, pnt_mut_rate, swp_mut_rate, blnk_mut_rate, swp_blank_rate, ins_mut_rate, n_keep)\u001b[0m\n\u001b[1;32m     71\u001b[0m     \u001b[0;32mfor\u001b[0m \u001b[0mstep\u001b[0m \u001b[0;32min\u001b[0m \u001b[0mrange\u001b[0m\u001b[0;34m(\u001b[0m\u001b[0mn_steps\u001b[0m\u001b[0;34m)\u001b[0m\u001b[0;34m:\u001b[0m\u001b[0;34m\u001b[0m\u001b[0m\n\u001b[1;32m     72\u001b[0m         \u001b[0mnew_pop\u001b[0m \u001b[0;34m=\u001b[0m \u001b[0;34m[\u001b[0m\u001b[0;34m]\u001b[0m\u001b[0;34m\u001b[0m\u001b[0m\n\u001b[0;32m---> 73\u001b[0;31m         \u001b[0mscore\u001b[0m \u001b[0;34m=\u001b[0m \u001b[0mscore_pop\u001b[0m\u001b[0;34m(\u001b[0m\u001b[0mpopulation\u001b[0m\u001b[0;34m)\u001b[0m\u001b[0;34m\u001b[0m\u001b[0m\n\u001b[0m\u001b[1;32m     74\u001b[0m         \u001b[0mmax_val\u001b[0m \u001b[0;34m=\u001b[0m \u001b[0mmax\u001b[0m\u001b[0;34m(\u001b[0m\u001b[0mscore\u001b[0m\u001b[0;34m)\u001b[0m\u001b[0;34m\u001b[0m\u001b[0m\n\u001b[1;32m     75\u001b[0m         \u001b[0mmax_idx\u001b[0m \u001b[0;34m=\u001b[0m \u001b[0mtop_idx\u001b[0m\u001b[0;34m(\u001b[0m\u001b[0mscore\u001b[0m\u001b[0;34m)\u001b[0m\u001b[0;34m\u001b[0m\u001b[0m\n",
      "\u001b[0;32m<ipython-input-7-a138c34a4a5f>\u001b[0m in \u001b[0;36mscore_pop\u001b[0;34m(population)\u001b[0m\n\u001b[1;32m     60\u001b[0m             \u001b[0mb1\u001b[0m \u001b[0;34m=\u001b[0m \u001b[0mindiv\u001b[0m\u001b[0;34m[\u001b[0m\u001b[0;36m1\u001b[0m\u001b[0;34m]\u001b[0m\u001b[0;34m[\u001b[0m\u001b[0;36m0\u001b[0m\u001b[0;34m]\u001b[0m\u001b[0;34m\u001b[0m\u001b[0m\n\u001b[1;32m     61\u001b[0m             \u001b[0mb2\u001b[0m \u001b[0;34m=\u001b[0m \u001b[0mindiv\u001b[0m\u001b[0;34m[\u001b[0m\u001b[0;36m1\u001b[0m\u001b[0;34m]\u001b[0m\u001b[0;34m[\u001b[0m\u001b[0;36m1\u001b[0m\u001b[0;34m]\u001b[0m\u001b[0;34m\u001b[0m\u001b[0m\n\u001b[0;32m---> 62\u001b[0;31m             \u001b[0mscore\u001b[0m\u001b[0;34m.\u001b[0m\u001b[0mappend\u001b[0m\u001b[0;34m(\u001b[0m\u001b[0meval_string\u001b[0m\u001b[0;34m(\u001b[0m\u001b[0mstring\u001b[0m\u001b[0;34m,\u001b[0m\u001b[0mb1\u001b[0m\u001b[0;34m,\u001b[0m\u001b[0mb2\u001b[0m\u001b[0;34m,\u001b[0m\u001b[0mmaxLen\u001b[0m\u001b[0;34m)\u001b[0m\u001b[0;34m[\u001b[0m\u001b[0;36m0\u001b[0m\u001b[0;34m]\u001b[0m\u001b[0;34m)\u001b[0m\u001b[0;34m\u001b[0m\u001b[0m\n\u001b[0m\u001b[1;32m     63\u001b[0m         \u001b[0;32mreturn\u001b[0m \u001b[0mscore\u001b[0m\u001b[0;34m\u001b[0m\u001b[0m\n\u001b[1;32m     64\u001b[0m     \u001b[0;32mdef\u001b[0m \u001b[0mtop_idx\u001b[0m\u001b[0;34m(\u001b[0m\u001b[0mscores\u001b[0m\u001b[0;34m)\u001b[0m\u001b[0;34m:\u001b[0m\u001b[0;34m\u001b[0m\u001b[0m\n",
      "\u001b[0;32m<ipython-input-6-ee88124a79bd>\u001b[0m in \u001b[0;36meval_string\u001b[0;34m(string, b1, b2, maxLen)\u001b[0m\n\u001b[1;32m     21\u001b[0m                 \u001b[0;32mif\u001b[0m \u001b[0mword\u001b[0m \u001b[0;32min\u001b[0m \u001b[0mdictionary\u001b[0m\u001b[0;34m:\u001b[0m\u001b[0;34m\u001b[0m\u001b[0m\n\u001b[1;32m     22\u001b[0m                     \u001b[0mblank2\u001b[0m\u001b[0;34m.\u001b[0m\u001b[0madd\u001b[0m\u001b[0;34m(\u001b[0m\u001b[0mword\u001b[0m\u001b[0;34m)\u001b[0m\u001b[0;34m\u001b[0m\u001b[0m\n\u001b[0;32m---> 23\u001b[0;31m             \u001b[0;32melif\u001b[0m \u001b[0mword\u001b[0m \u001b[0;32min\u001b[0m \u001b[0mdictionary\u001b[0m\u001b[0;34m:\u001b[0m\u001b[0;34m\u001b[0m\u001b[0m\n\u001b[0m\u001b[1;32m     24\u001b[0m                 \u001b[0mwords\u001b[0m\u001b[0;34m.\u001b[0m\u001b[0madd\u001b[0m\u001b[0;34m(\u001b[0m\u001b[0mword\u001b[0m\u001b[0;34m)\u001b[0m\u001b[0;34m\u001b[0m\u001b[0m\n\u001b[1;32m     25\u001b[0m     \u001b[0mblank_dict\u001b[0m \u001b[0;34m=\u001b[0m \u001b[0;34m{\u001b[0m\u001b[0mw\u001b[0m\u001b[0;34m:\u001b[0m\u001b[0mdictionary\u001b[0m\u001b[0;34m[\u001b[0m\u001b[0mw\u001b[0m\u001b[0;34m]\u001b[0m\u001b[0;34m-\u001b[0m\u001b[0mtiles\u001b[0m\u001b[0;34m[\u001b[0m\u001b[0mb1\u001b[0m\u001b[0;34m]\u001b[0m\u001b[0;34m[\u001b[0m\u001b[0;34m'points'\u001b[0m\u001b[0;34m]\u001b[0m \u001b[0;32mfor\u001b[0m \u001b[0mw\u001b[0m \u001b[0;32min\u001b[0m \u001b[0mblank1\u001b[0m \u001b[0;32mif\u001b[0m \u001b[0mw\u001b[0m \u001b[0;32mnot\u001b[0m \u001b[0;32min\u001b[0m \u001b[0mwords\u001b[0m\u001b[0;34m}\u001b[0m\u001b[0;34m\u001b[0m\u001b[0m\n",
      "\u001b[0;31mKeyboardInterrupt\u001b[0m: "
     ]
    }
   ],
   "source": [
    "best_pop,score,population,max_score = genetic_algorithm(init_pop,pop_size,n_steps,pnt_mut_rate,blnk_mut_rate,swp_blank_rate,ins_mut_rate,n_keep)\n",
    "\n",
    "output = {'best_pop':best_pop,'score':score,'population':population,'max_score':max_score}\n",
    "time = datetime.datetime.now().strftime('%Y_%m_%d_%H%M%S')\n",
    "file_name = 'scrabble_output_'+time+'.pickle'\n",
    "with open(file_name,'wb') as f:\n",
    "    pickle.dump(output,f)"
   ]
  },
  {
   "cell_type": "markdown",
   "metadata": {},
   "source": [
    "get pickled output and see."
   ]
  },
  {
   "cell_type": "code",
   "execution_count": null,
   "metadata": {
    "scrolled": true
   },
   "outputs": [],
   "source": [
    "with open(file_name,'rb') as f:\n",
    "    output = pickle.load(f)\n",
    "for b in output['best_pop']:\n",
    "    val,words = eval_string(b[0],b[1][0],b[1][1],maxLen)\n",
    "    print 'score: ' + str(val)\n",
    "    print 'n_words: ' + str(len(words))\n",
    "    print 'string: ' + ''.join(b[0])\n",
    "    print 'blank_1: ' + b[1][0]\n",
    "    print 'blank_2: ' + b[1][1]"
   ]
  },
  {
   "cell_type": "code",
   "execution_count": null,
   "metadata": {
    "scrolled": true
   },
   "outputs": [],
   "source": [
    "plt.figure()\n",
    "plt.plot(range(n_steps),output['max_score'])\n",
    "plt.xlabel('generation')\n",
    "plt.ylabel('best score')"
   ]
  },
  {
   "cell_type": "code",
   "execution_count": null,
   "metadata": {},
   "outputs": [],
   "source": [
    "len(strs[0][:])"
   ]
  }
 ],
 "metadata": {
  "kernelspec": {
   "display_name": "Python 2",
   "language": "python",
   "name": "python2"
  },
  "language_info": {
   "codemirror_mode": {
    "name": "ipython",
    "version": 2
   },
   "file_extension": ".py",
   "mimetype": "text/x-python",
   "name": "python",
   "nbconvert_exporter": "python",
   "pygments_lexer": "ipython2",
   "version": "2.7.15"
  }
 },
 "nbformat": 4,
 "nbformat_minor": 2
}
